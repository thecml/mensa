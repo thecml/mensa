{
  "cells": [
    {
      "cell_type": "code",
      "execution_count": 22,
      "metadata": {
        "colab": {
          "base_uri": "https://localhost:8080/",
          "height": 34
        },
        "colab_type": "code",
        "id": "6BaMKLQvE8OO",
        "outputId": "d9037787-b981-4975-d670-1ab5df35d47c"
      },
      "outputs": [
        {
          "data": {
            "text/plain": [
              "<torch._C.Generator at 0x25f7f5f87f0>"
            ]
          },
          "execution_count": 22,
          "metadata": {},
          "output_type": "execute_result"
        }
      ],
      "source": [
        "import torch\n",
        "import torch.nn as nn\n",
        "import torch.optim as optim\n",
        "import numpy as np\n",
        "np.random.seed(0)\n",
        "torch.manual_seed(0)"
      ]
    },
    {
      "cell_type": "code",
      "execution_count": 23,
      "metadata": {
        "colab": {},
        "colab_type": "code",
        "id": "tu9_J0xrIHhj"
      },
      "outputs": [],
      "source": [
        "N = 100\n",
        "nb_epoch = 2000\n",
        "batch_size = 20\n",
        "nb_features = 1024\n",
        "Q = 1\n",
        "nb_output = 2  # total number of output\n",
        "D1 = 1  # first output\n",
        "D2 = 1  # second output"
      ]
    },
    {
      "cell_type": "markdown",
      "metadata": {
        "colab_type": "text",
        "id": "ObaYZBVpyO3Z"
      },
      "source": [
        "# Evaluate on synthetic data"
      ]
    },
    {
      "cell_type": "code",
      "execution_count": 24,
      "metadata": {
        "colab": {},
        "colab_type": "code",
        "id": "aoKriQlrIM3A"
      },
      "outputs": [],
      "source": [
        "def gen_data(N):\n",
        "    X = np.random.randn(N, Q)\n",
        "    w1 = 2.\n",
        "    b1 = 8.\n",
        "    sigma1 = 1e1  # ground truth\n",
        "    Y1 = X.dot(w1) + b1 + sigma1 * np.random.randn(N, D1)\n",
        "    w2 = 3\n",
        "    b2 = 3.\n",
        "    sigma2 = 1e0  # ground truth\n",
        "    Y2 = X.dot(w2) + b2 + sigma2 * np.random.randn(N, D2)\n",
        "    return X, Y1, Y2"
      ]
    },
    {
      "cell_type": "code",
      "execution_count": 25,
      "metadata": {
        "colab": {
          "base_uri": "https://localhost:8080/",
          "height": 129
        },
        "colab_type": "code",
        "id": "Db4B3XIzIPi-",
        "outputId": "9ce79361-d020-4c16-e123-a5b51872f786"
      },
      "outputs": [
        {
          "data": {
            "image/png": "[encoded data removed]",
            "text/plain": [
              "<Figure size 300x150 with 1 Axes>"
            ]
          },
          "metadata": {},
          "output_type": "display_data"
        }
      ],
      "source": [
        "import pylab\n",
        "%matplotlib inline\n",
        "\n",
        "X, Y1, Y2 = gen_data(N)\n",
        "pylab.figure(figsize=(3, 1.5))\n",
        "pylab.scatter(X[:, 0], Y1[:, 0])\n",
        "pylab.scatter(X[:, 0], Y2[:, 0])\n",
        "pylab.show()"
      ]
    },
    {
      "cell_type": "markdown",
      "metadata": {
        "colab_type": "text",
        "id": "_E7LhkkoyR72"
      },
      "source": [
        "# Example Model"
      ]
    },
    {
      "cell_type": "code",
      "execution_count": 26,
      "metadata": {
        "colab": {},
        "colab_type": "code",
        "id": "oFKJ9_mfIUlQ"
      },
      "outputs": [],
      "source": [
        "class Net(nn.Module):\n",
        "    def __init__(self, input_size, hidden_size, output1_size, output2_size):\n",
        "        super(Net, self).__init__()\n",
        "        self.fc1 = nn.Linear(input_size, hidden_size) \n",
        "        self.relu = nn.ReLU()\n",
        "        self.fc2 = nn.Linear(hidden_size, output1_size)\n",
        "        self.fc3 = nn.Linear(hidden_size, output2_size)\n",
        "    \n",
        "    def forward(self, x):\n",
        "        out = self.fc1(x)\n",
        "        out = self.relu(out)\n",
        "        out1 = self.fc2(out)\n",
        "        out2 = self.fc3(out)\n",
        "        return out1, out2"
      ]
    },
    {
      "cell_type": "code",
      "execution_count": 27,
      "metadata": {
        "colab": {},
        "colab_type": "code",
        "id": "r-UlDkdlK21o"
      },
      "outputs": [],
      "source": [
        "model = Net(Q, nb_features, D1, D2)"
      ]
    },
    {
      "cell_type": "markdown",
      "metadata": {
        "colab_type": "text",
        "id": "EyR5ree1yWDk"
      },
      "source": [
        "## Define task dependent log_variance"
      ]
    },
    {
      "cell_type": "code",
      "execution_count": 28,
      "metadata": {
        "colab": {},
        "colab_type": "code",
        "id": "ih0Ocq-NFuX2"
      },
      "outputs": [],
      "source": [
        "log_var_a = torch.zeros((1,), requires_grad=True)\n",
        "log_var_b = torch.zeros((1,), requires_grad=True)"
      ]
    },
    {
      "cell_type": "code",
      "execution_count": 21,
      "metadata": {
        "colab": {
          "base_uri": "https://localhost:8080/",
          "height": 34
        },
        "colab_type": "code",
        "id": "Q_aXEqn84eGR",
        "outputId": "b43872e7-3303-4123-9e28-f5ff9746cae6"
      },
      "outputs": [
        {
          "name": "stdout",
          "output_type": "stream",
          "text": [
            "[1.0, 1.0]\n"
          ]
        }
      ],
      "source": [
        "# Initialized standard deviations (ground truth is 10 and 1):\n",
        "std_1 = torch.exp(log_var_a)**0.5\n",
        "std_2 = torch.exp(log_var_b)**0.5\n",
        "print([std_1.item(), std_2.item()])"
      ]
    },
    {
      "cell_type": "code",
      "execution_count": 30,
      "metadata": {
        "colab": {},
        "colab_type": "code",
        "id": "mcKDv3htMqXJ"
      },
      "outputs": [],
      "source": [
        "# get all parameters (model parameters + task dependent log variances)\n",
        "params = ([p for p in model.parameters()] + [log_var_a] + [log_var_b])"
      ]
    },
    {
      "cell_type": "code",
      "execution_count": 31,
      "metadata": {
        "colab": {},
        "colab_type": "code",
        "id": "HfBN-qs2Q_Wj"
      },
      "outputs": [],
      "source": [
        "#optimizer = optim.SGD(params, lr=0.001, momentum=0.9)\n",
        "optimizer = optim.Adam(params)"
      ]
    },
    {
      "cell_type": "markdown",
      "metadata": {
        "colab_type": "text",
        "id": "MGPCPAXryqT9"
      },
      "source": [
        "## define loss criterion"
      ]
    },
    {
      "cell_type": "code",
      "execution_count": 34,
      "metadata": {
        "colab": {},
        "colab_type": "code",
        "id": "5rHlOTALGXug"
      },
      "outputs": [],
      "source": [
        "def criterion(y_pred, y_true, log_vars):\n",
        "  loss = 0\n",
        "  for i in range(len(y_pred)):\n",
        "    precision = torch.exp(-log_vars[i])\n",
        "    diff = (y_pred[i]-y_true[i])**2.\n",
        "    loss += torch.sum(precision * diff + log_vars[i], -1)\n",
        "  return torch.mean(loss)"
      ]
    },
    {
      "cell_type": "markdown",
      "metadata": {
        "colab_type": "text",
        "id": "9Mk7ma7my397"
      },
      "source": [
        "## Train the network"
      ]
    },
    {
      "cell_type": "code",
      "execution_count": 35,
      "metadata": {
        "colab": {},
        "colab_type": "code",
        "id": "_pQ3cDYGVtPv"
      },
      "outputs": [],
      "source": [
        "# convert data into torch from numpy array\n",
        "X = X.astype('float32')\n",
        "Y1 = Y1.astype('float32')\n",
        "Y2 = Y2.astype('float32')"
      ]
    },
    {
      "cell_type": "code",
      "execution_count": 36,
      "metadata": {
        "colab": {},
        "colab_type": "code",
        "id": "mFm-Jtkm2cGk"
      },
      "outputs": [],
      "source": [
        "def shuffle_data(X,Y1,Y2):\n",
        "    s = np.arange(X.shape[0])\n",
        "    np.random.shuffle(s)\n",
        "    return X[s], Y1[s], Y2[s]"
      ]
    },
    {
      "cell_type": "code",
      "execution_count": 37,
      "metadata": {
        "colab": {},
        "colab_type": "code",
        "id": "2RJ0U_ss0uT1"
      },
      "outputs": [
        {
          "name": "stdout",
          "output_type": "stream",
          "text": [
            "tensor([0.], requires_grad=True)\n",
            "tensor([0.], requires_grad=True)\n",
            "tensor([0.0010], requires_grad=True)\n",
            "tensor([0.0010], requires_grad=True)\n",
            "tensor([0.0019], requires_grad=True)\n",
            "tensor([0.0019], requires_grad=True)\n",
            "tensor([0.0028], requires_grad=True)\n",
            "tensor([0.0028], requires_grad=True)\n",
            "tensor([0.0037], requires_grad=True)\n",
            "tensor([0.0037], requires_grad=True)\n"
          ]
        }
      ],
      "source": [
        "## Train Network\n",
        "loss_history = np.zeros(nb_epoch)\n",
        "\n",
        "for i in range(1):\n",
        "\n",
        "    epoch_loss = 0\n",
        "    \n",
        "    X, Y1, Y2 = shuffle_data(X, Y1, Y2)\n",
        "    \n",
        "    for j in range(N//batch_size):\n",
        "        \n",
        "        optimizer.zero_grad()\n",
        "        \n",
        "        inp = torch.from_numpy(X[(j*batch_size):((j+1)*batch_size)])\n",
        "        target1 = torch.from_numpy(Y1[(j*batch_size):((j+1)*batch_size)])\n",
        "        target2 = torch.from_numpy(Y2[(j*batch_size):((j+1)*batch_size)])\n",
        "        \n",
        "        out = model(inp)\n",
        "        \n",
        "        print(log_var_a)\n",
        "        loss = criterion(out, [target1, target2], [log_var_a, log_var_b])\n",
        "        print(log_var_a)\n",
        "        \n",
        "        epoch_loss += loss.item()\n",
        "        \n",
        "        loss.backward()\n",
        "        \n",
        "        optimizer.step()\n",
        "   \n",
        "    loss_history[i] = epoch_loss * batch_size / N    "
      ]
    },
    {
      "cell_type": "code",
      "execution_count": 15,
      "metadata": {
        "colab": {
          "base_uri": "https://localhost:8080/",
          "height": 282
        },
        "colab_type": "code",
        "id": "ZoiJCMsb1BMt",
        "outputId": "270cbd11-8e7f-4426-acfa-3bf789a1fc8f"
      },
      "outputs": [
        {
          "data": {
            "text/plain": [
              "[<matplotlib.lines.Line2D at 0x25f0ee9d250>]"
            ]
          },
          "execution_count": 15,
          "metadata": {},
          "output_type": "execute_result"
        },
        {
          "data": {
            "image/png": "[encoded data removed]",
            "text/plain": [
              "<Figure size 640x480 with 1 Axes>"
            ]
          },
          "metadata": {},
          "output_type": "display_data"
        }
      ],
      "source": [
        "# plot loss history\n",
        "\n",
        "pylab.plot(loss_history)"
      ]
    },
    {
      "cell_type": "code",
      "execution_count": 16,
      "metadata": {
        "colab": {
          "base_uri": "https://localhost:8080/",
          "height": 34
        },
        "colab_type": "code",
        "id": "tudLOfJazx4X",
        "outputId": "9c9cbd93-433a-48ff-e049-22ccb0cdd861"
      },
      "outputs": [
        {
          "name": "stdout",
          "output_type": "stream",
          "text": [
            "[8.587499618530273, 0.9198130369186401]\n"
          ]
        }
      ],
      "source": [
        "# Found standard deviations (ground truth is 10 and 1):\n",
        "std_1 = torch.exp(log_var_a)**0.5\n",
        "std_2 = torch.exp(log_var_b)**0.5\n",
        "print([std_1.item(), std_2.item()])"
      ]
    }
  ],
  "metadata": {
    "colab": {
      "collapsed_sections": [],
      "name": "multi-task-learning-example-pytorch.ipynb",
      "provenance": [],
      "version": "0.3.2"
    },
    "kernelspec": {
      "display_name": "Python 3",
      "name": "python3"
    },
    "language_info": {
      "codemirror_mode": {
        "name": "ipython",
        "version": 3
      },
      "file_extension": ".py",
      "mimetype": "text/x-python",
      "name": "python",
      "nbconvert_exporter": "python",
      "pygments_lexer": "ipython3",
      "version": "3.9.19"
    }
  },
  "nbformat": 4,
  "nbformat_minor": 0
}
