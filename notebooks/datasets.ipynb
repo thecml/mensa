{
 "cells": [
  {
   "cell_type": "code",
   "execution_count": 1,
   "metadata": {},
   "outputs": [
    {
     "name": "stderr",
     "output_type": "stream",
     "text": [
      "c:\\Users\\cml\\miniconda3\\envs\\py39-mensa\\lib\\site-packages\\tqdm\\auto.py:21: TqdmWarning: IProgress not found. Please update jupyter and ipywidgets. See https://ipywidgets.readthedocs.io/en/stable/user_install.html\n",
      "  from .autonotebook import tqdm as notebook_tqdm\n"
     ]
    }
   ],
   "source": [
    "import numpy as np\n",
    "import config as cfg\n",
    "from data_loader import get_data_loader\n",
    "from utility.config import load_config\n",
    "import random\n",
    "import torch\n",
    "\n",
    "# Setup precision\n",
    "dtype = torch.float64\n",
    "torch.set_default_dtype(dtype)\n",
    "\n",
    "np.random.seed(0)\n",
    "torch.manual_seed(0)\n",
    "random.seed(0)"
   ]
  },
  {
   "cell_type": "code",
   "execution_count": 2,
   "metadata": {},
   "outputs": [
    {
     "name": "stdout",
     "output_type": "stream",
     "text": [
      "Value: 0, Count: 5073, Percentage: 25.36%\n",
      "Value: 1, Count: 14927, Percentage: 74.63%\n"
     ]
    }
   ],
   "source": [
    "# Load single event synthetic\n",
    "dataset_name = \"synthetic_se\"\n",
    "data_config = load_config(cfg.DGP_CONFIGS_DIR, f\"synthetic_se.yaml\")\n",
    "dl = get_data_loader(dataset_name)\n",
    "dl = dl.load_data(data_config, k_tau=0.25, linear=False)\n",
    "num_features, cat_features = dl.get_features()\n",
    "X, y_t, y_e = dl.get_data()\n",
    "unique_values, counts = np.unique(y_e, return_counts=True)\n",
    "total_count = len(y_e)\n",
    "for value, count in zip(unique_values, counts):\n",
    "    percentage = (count / total_count)*100\n",
    "    print(f\"Value: {value}, Count: {count}, Percentage: {percentage:.2f}%\")"
   ]
  },
  {
   "cell_type": "code",
   "execution_count": 2,
   "metadata": {},
   "outputs": [
    {
     "name": "stdout",
     "output_type": "stream",
     "text": [
      "Value: 0, Count: 4814, Percentage: 24.07%\n",
      "Value: 1, Count: 14679, Percentage: 73.39%\n",
      "Value: 2, Count: 507, Percentage: 2.54%\n"
     ]
    }
   ],
   "source": [
    "# Load competing risks synthetic\n",
    "dataset_name = \"synthetic_cr\"\n",
    "data_config = load_config(cfg.DGP_CONFIGS_DIR, f\"synthetic_cr.yaml\")\n",
    "dl = get_data_loader(dataset_name).load_data(data_config, k_tau=0.25, linear=False)\n",
    "num_features, cat_features = dl.get_features()\n",
    "X, y_t, y_e = dl.get_data()\n",
    "unique_values, counts = np.unique(y_e, return_counts=True)\n",
    "total_count = len(y_e)\n",
    "for value, count in zip(unique_values, counts):\n",
    "    percentage = (count / total_count)*100\n",
    "    print(f\"Value: {value}, Count: {count}, Percentage: {percentage:.2f}%\")"
   ]
  },
  {
   "cell_type": "code",
   "execution_count": 2,
   "metadata": {},
   "outputs": [
    {
     "name": "stdout",
     "output_type": "stream",
     "text": [
      "Value: 0, Count: 13794, Percentage: 68.97%\n",
      "Value: 1, Count: 6206, Percentage: 31.03%\n",
      "\n",
      "Value: 0, Count: 9380, Percentage: 46.90%\n",
      "Value: 1, Count: 10620, Percentage: 53.10%\n",
      "\n",
      "Value: 0, Count: 16658, Percentage: 83.29%\n",
      "Value: 1, Count: 3342, Percentage: 16.71%\n",
      "\n"
     ]
    }
   ],
   "source": [
    "# Load multi event synthetic\n",
    "dataset_name = \"synthetic_me\"\n",
    "data_config = load_config(cfg.DGP_CONFIGS_DIR, f\"synthetic_me.yaml\")\n",
    "dl = get_data_loader(dataset_name).load_data(data_config, k_taus=[0.25, 0.25, 0.25], linear=False)\n",
    "num_features, cat_features = dl.get_features()\n",
    "X, y_t, y_e = dl.get_data()\n",
    "\n",
    "for i in range(3):\n",
    "    unique_values, counts = np.unique(y_e[:,i], return_counts=True)\n",
    "    total_count = len(y_e[:,i])\n",
    "    for value, count in zip(unique_values, counts):\n",
    "        percentage = (count / total_count)*100\n",
    "        print(f\"Value: {value}, Count: {count}, Percentage: {percentage:.2f}%\")\n",
    "    print()"
   ]
  },
  {
   "cell_type": "code",
   "execution_count": null,
   "metadata": {},
   "outputs": [
    {
     "name": "stdout",
     "output_type": "stream",
     "text": [
      "Value: False, Count: 462, Percentage: 47.09%\n",
      "Value: True, Count: 519, Percentage: 52.91%\n",
      "\n",
      "Value: False, Count: 527, Percentage: 53.72%\n",
      "Value: True, Count: 454, Percentage: 46.28%\n",
      "\n",
      "Value: False, Count: 384, Percentage: 39.14%\n",
      "Value: True, Count: 597, Percentage: 60.86%\n",
      "\n",
      "Value: False, Count: 225, Percentage: 22.94%\n",
      "Value: True, Count: 756, Percentage: 77.06%\n",
      "\n"
     ]
    }
   ],
   "source": [
    "# Load PRO-ACT dataset\n",
    "dataset_name = \"als_me\"\n",
    "dl = get_data_loader(dataset_name).load_data()\n",
    "num_features, cat_features = dl.get_features()\n",
    "X, y_t, y_e = dl.get_data()\n",
    "\n",
    "for i in range(4):\n",
    "    unique_values, counts = np.unique(y_e[:,i], return_counts=True)\n",
    "    total_count = len(y_e[:,i])\n",
    "    for value, count in zip(unique_values, counts):\n",
    "        percentage = (count / total_count)*100\n",
    "        print(f\"Value: {value}, Count: {count}, Percentage: {percentage:.2f}%\")\n",
    "    print()"
   ]
  },
  {
   "cell_type": "code",
   "execution_count": null,
   "metadata": {},
   "outputs": [
    {
     "name": "stdout",
     "output_type": "stream",
     "text": [
      "Value: 0, Count: 10492, Percentage: 54.52%\n",
      "Value: 1, Count: 8754, Percentage: 45.48%\n"
     ]
    }
   ],
   "source": [
    "# Load SEER (SE) dataset\n",
    "dataset_name = \"seer_se\"\n",
    "dl = get_data_loader(dataset_name)\n",
    "dl = dl.load_data()\n",
    "num_features, cat_features = dl.get_features()\n",
    "X, y_t, y_e = dl.get_data()\n",
    "unique_values, counts = np.unique(y_e, return_counts=True)\n",
    "total_count = len(y_e)\n",
    "for value, count in zip(unique_values, counts):\n",
    "    percentage = (count / total_count)*100\n",
    "    print(f\"Value: {value}, Count: {count}, Percentage: {percentage:.2f}%\")"
   ]
  },
  {
   "cell_type": "code",
   "execution_count": null,
   "metadata": {},
   "outputs": [
    {
     "name": "stdout",
     "output_type": "stream",
     "text": [
      "Value: 0, Count: 8103, Percentage: 42.10%\n",
      "Value: 1, Count: 2389, Percentage: 12.41%\n",
      "Value: 2, Count: 8754, Percentage: 45.48%\n"
     ]
    }
   ],
   "source": [
    "# Load SEER (CR) dataset\n",
    "dataset_name = \"seer_cr\"\n",
    "dl = get_data_loader(dataset_name)\n",
    "dl = dl.load_data()\n",
    "num_features, cat_features = dl.get_features()\n",
    "X, y_t, y_e = dl.get_data()\n",
    "unique_values, counts = np.unique(y_e, return_counts=True)\n",
    "total_count = len(y_e)\n",
    "for value, count in zip(unique_values, counts):\n",
    "    percentage = (count / total_count)*100\n",
    "    print(f\"Value: {value}, Count: {count}, Percentage: {percentage:.2f}%\")"
   ]
  },
  {
   "cell_type": "code",
   "execution_count": null,
   "metadata": {},
   "outputs": [
    {
     "name": "stdout",
     "output_type": "stream",
     "text": [
      "Value: 0, Count: 1269, Percentage: 42.56%\n",
      "Value: 1, Count: 195, Percentage: 6.54%\n",
      "Value: 2, Count: 1518, Percentage: 50.91%\n"
     ]
    }
   ],
   "source": [
    "# Load Rotterdam (CR) dataset\n",
    "dataset_name = \"rotterdam_cr\"\n",
    "dl = get_data_loader(dataset_name)\n",
    "dl = dl.load_data()\n",
    "num_features, cat_features = dl.get_features()\n",
    "X, y_t, y_e = dl.get_data()\n",
    "unique_values, counts = np.unique(y_e, return_counts=True)\n",
    "total_count = len(y_e)\n",
    "for value, count in zip(unique_values, counts):\n",
    "    percentage = (count / total_count)*100\n",
    "    print(f\"Value: {value}, Count: {count}, Percentage: {percentage:.2f}%\")"
   ]
  },
  {
   "cell_type": "code",
   "execution_count": null,
   "metadata": {},
   "outputs": [
    {
     "name": "stdout",
     "output_type": "stream",
     "text": [
      "Value: False, Count: 15647, Percentage: 59.64%\n",
      "Value: True, Count: 10589, Percentage: 40.36%\n"
     ]
    }
   ],
   "source": [
    "# Load MIMIC-IV (SE) dataset\n",
    "dataset_name = \"mimic_se\"\n",
    "dl = get_data_loader(dataset_name)\n",
    "dl = dl.load_data()\n",
    "num_features, cat_features = dl.get_features()\n",
    "X, y_t, y_e = dl.get_data()\n",
    "unique_values, counts = np.unique(y_e, return_counts=True)\n",
    "total_count = len(y_e)\n",
    "for value, count in zip(unique_values, counts):\n",
    "    percentage = (count / total_count)*100\n",
    "    print(f\"Value: {value}, Count: {count}, Percentage: {percentage:.2f}%\")"
   ]
  },
  {
   "cell_type": "code",
   "execution_count": null,
   "metadata": {},
   "outputs": [
    {
     "name": "stdout",
     "output_type": "stream",
     "text": [
      "Value: 0.0, Count: 19718, Percentage: 75.16%\n",
      "Value: 1.0, Count: 6518, Percentage: 24.84%\n",
      "\n",
      "Value: 0.0, Count: 20091, Percentage: 76.58%\n",
      "Value: 1.0, Count: 6145, Percentage: 23.42%\n",
      "\n",
      "Value: 0.0, Count: 15647, Percentage: 59.64%\n",
      "Value: 1.0, Count: 10589, Percentage: 40.36%\n",
      "\n"
     ]
    }
   ],
   "source": [
    "# Load MIMIC-IV (ME) dataset\n",
    "dataset_name = \"mimic_me\"\n",
    "dl = get_data_loader(dataset_name).load_data()\n",
    "num_features, cat_features = dl.get_features()\n",
    "X, y_t, y_e = dl.get_data()\n",
    "\n",
    "for i in range(3):\n",
    "    unique_values, counts = np.unique(y_e[:,i], return_counts=True)\n",
    "    total_count = len(y_e[:,i])\n",
    "    for value, count in zip(unique_values, counts):\n",
    "        percentage = (count / total_count)*100\n",
    "        print(f\"Value: {value}, Count: {count}, Percentage: {percentage:.2f}%\")\n",
    "    print()"
   ]
  }
 ],
 "metadata": {
  "kernelspec": {
   "display_name": "py38-bayes-surv",
   "language": "python",
   "name": "python3"
  },
  "language_info": {
   "codemirror_mode": {
    "name": "ipython",
    "version": 3
   },
   "file_extension": ".py",
   "mimetype": "text/x-python",
   "name": "python",
   "nbconvert_exporter": "python",
   "pygments_lexer": "ipython3",
   "version": "3.9.19"
  },
  "orig_nbformat": 4
 },
 "nbformat": 4,
 "nbformat_minor": 2
}
