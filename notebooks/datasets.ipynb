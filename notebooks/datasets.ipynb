{
 "cells": [
  {
   "cell_type": "code",
   "execution_count": 2,
   "metadata": {},
   "outputs": [
    {
     "name": "stderr",
     "output_type": "stream",
     "text": [
      "c:\\Users\\cml\\miniconda3\\envs\\py39-mensa\\lib\\site-packages\\tqdm\\auto.py:21: TqdmWarning: IProgress not found. Please update jupyter and ipywidgets. See https://ipywidgets.readthedocs.io/en/stable/user_install.html\n",
      "  from .autonotebook import tqdm as notebook_tqdm\n"
     ]
    }
   ],
   "source": [
    "import numpy as np\n",
    "import config as cfg\n",
    "from data_loader import get_data_loader\n",
    "from utility.config import load_config\n",
    "import random\n",
    "import torch\n",
    "\n",
    "# Setup precision\n",
    "dtype = torch.float64\n",
    "torch.set_default_dtype(dtype)\n",
    "\n",
    "np.random.seed(0)\n",
    "torch.manual_seed(0)\n",
    "random.seed(0)"
   ]
  },
  {
   "cell_type": "code",
   "execution_count": 3,
   "metadata": {},
   "outputs": [
    {
     "name": "stdout",
     "output_type": "stream",
     "text": [
      "Value: 0, Count: 6671, Percentage: 33.36%\n",
      "Value: 1, Count: 13329, Percentage: 66.64%\n"
     ]
    }
   ],
   "source": [
    "# Load single event synthetic\n",
    "dataset_name = \"synthetic_se\"\n",
    "data_config = load_config(cfg.DGP_CONFIGS_DIR, f\"synthetic_se.yaml\")\n",
    "dl = get_data_loader(dataset_name)\n",
    "dl = dl.load_data(data_config, k_tau=0.25, linear=False)\n",
    "num_features, cat_features = dl.get_features()\n",
    "X, y_t, y_e = dl.get_data()\n",
    "unique_values, counts = np.unique(y_e, return_counts=True)\n",
    "total_count = len(y_e)\n",
    "for value, count in zip(unique_values, counts):\n",
    "    percentage = (count / total_count)*100\n",
    "    print(f\"Value: {value}, Count: {count}, Percentage: {percentage:.2f}%\")"
   ]
  },
  {
   "cell_type": "code",
   "execution_count": 3,
   "metadata": {},
   "outputs": [
    {
     "ename": "KeyError",
     "evalue": "'bl_e1'",
     "output_type": "error",
     "traceback": [
      "\u001b[1;31m---------------------------------------------------------------------------\u001b[0m",
      "\u001b[1;31mKeyError\u001b[0m                                  Traceback (most recent call last)",
      "Cell \u001b[1;32mIn[3], line 4\u001b[0m\n\u001b[0;32m      2\u001b[0m dataset_name \u001b[38;5;241m=\u001b[39m \u001b[38;5;124m\"\u001b[39m\u001b[38;5;124msynthetic_cr\u001b[39m\u001b[38;5;124m\"\u001b[39m\n\u001b[0;32m      3\u001b[0m data_config \u001b[38;5;241m=\u001b[39m load_config(cfg\u001b[38;5;241m.\u001b[39mDGP_CONFIGS_DIR, \u001b[38;5;124mf\u001b[39m\u001b[38;5;124m\"\u001b[39m\u001b[38;5;124msynthetic_cr.yaml\u001b[39m\u001b[38;5;124m\"\u001b[39m)\n\u001b[1;32m----> 4\u001b[0m dl \u001b[38;5;241m=\u001b[39m \u001b[43mget_data_loader\u001b[49m\u001b[43m(\u001b[49m\u001b[43mdataset_name\u001b[49m\u001b[43m)\u001b[49m\u001b[38;5;241;43m.\u001b[39;49m\u001b[43mload_data\u001b[49m\u001b[43m(\u001b[49m\u001b[43mdata_config\u001b[49m\u001b[43m,\u001b[49m\u001b[43m \u001b[49m\u001b[43mk_tau\u001b[49m\u001b[38;5;241;43m=\u001b[39;49m\u001b[38;5;241;43m0.25\u001b[39;49m\u001b[43m,\u001b[49m\u001b[43m \u001b[49m\u001b[43mlinear\u001b[49m\u001b[38;5;241;43m=\u001b[39;49m\u001b[38;5;28;43;01mTrue\u001b[39;49;00m\u001b[43m)\u001b[49m\n\u001b[0;32m      5\u001b[0m num_features, cat_features \u001b[38;5;241m=\u001b[39m dl\u001b[38;5;241m.\u001b[39mget_features()\n\u001b[0;32m      6\u001b[0m X, y_t, y_e \u001b[38;5;241m=\u001b[39m dl\u001b[38;5;241m.\u001b[39mget_data()\n",
      "File \u001b[1;32mc:\\users\\cml\\desktop\\mensa\\src\\data_loader.py:163\u001b[0m, in \u001b[0;36mCompetingRiskSyntheticDataLoader.load_data\u001b[1;34m(self, data_config, copula_name, k_tau, linear, device, dtype)\u001b[0m\n\u001b[0;32m    155\u001b[0m \u001b[38;5;28;01mdef\u001b[39;00m \u001b[38;5;21mload_data\u001b[39m(\u001b[38;5;28mself\u001b[39m, data_config, copula_name\u001b[38;5;241m=\u001b[39m\u001b[38;5;124m'\u001b[39m\u001b[38;5;124mclayton\u001b[39m\u001b[38;5;124m'\u001b[39m, k_tau\u001b[38;5;241m=\u001b[39m\u001b[38;5;241m0\u001b[39m,\n\u001b[0;32m    156\u001b[0m               linear\u001b[38;5;241m=\u001b[39m\u001b[38;5;28;01mTrue\u001b[39;00m, device\u001b[38;5;241m=\u001b[39m\u001b[38;5;124m'\u001b[39m\u001b[38;5;124mcpu\u001b[39m\u001b[38;5;124m'\u001b[39m, dtype\u001b[38;5;241m=\u001b[39mtorch\u001b[38;5;241m.\u001b[39mfloat64):\n\u001b[0;32m    157\u001b[0m \u001b[38;5;250m    \u001b[39m\u001b[38;5;124;03m\"\"\"\u001b[39;00m\n\u001b[0;32m    158\u001b[0m \u001b[38;5;124;03m    This method generates synthetic data for 2 competing risks (and censoring)\u001b[39;00m\n\u001b[0;32m    159\u001b[0m \u001b[38;5;124;03m    DGP1: Data generation process for event 1\u001b[39;00m\n\u001b[0;32m    160\u001b[0m \u001b[38;5;124;03m    DGP2: Data generation process for event 2\u001b[39;00m\n\u001b[0;32m    161\u001b[0m \u001b[38;5;124;03m    DGP3: Data generation process for censoring\u001b[39;00m\n\u001b[0;32m    162\u001b[0m \u001b[38;5;124;03m    \"\"\"\u001b[39;00m\n\u001b[1;32m--> 163\u001b[0m     bl_e1 \u001b[38;5;241m=\u001b[39m \u001b[43mdata_config\u001b[49m\u001b[43m[\u001b[49m\u001b[38;5;124;43m'\u001b[39;49m\u001b[38;5;124;43mbl_e1\u001b[39;49m\u001b[38;5;124;43m'\u001b[39;49m\u001b[43m]\u001b[49m\n\u001b[0;32m    164\u001b[0m     bl_e2 \u001b[38;5;241m=\u001b[39m data_config[\u001b[38;5;124m'\u001b[39m\u001b[38;5;124mbl_e2\u001b[39m\u001b[38;5;124m'\u001b[39m]\n\u001b[0;32m    165\u001b[0m     bl_e3 \u001b[38;5;241m=\u001b[39m data_config[\u001b[38;5;124m'\u001b[39m\u001b[38;5;124mbl_e3\u001b[39m\u001b[38;5;124m'\u001b[39m]\n",
      "\u001b[1;31mKeyError\u001b[0m: 'bl_e1'"
     ]
    }
   ],
   "source": [
    "# Load competing risks synthetic\n",
    "dataset_name = \"synthetic_cr\"\n",
    "data_config = load_config(cfg.DGP_CONFIGS_DIR, f\"synthetic_cr.yaml\")\n",
    "dl = get_data_loader(dataset_name).load_data(data_config, k_tau=0.25, linear=True)\n",
    "num_features, cat_features = dl.get_features()\n",
    "X, y_t, y_e = dl.get_data()\n",
    "unique_values, counts = np.unique(y_e, return_counts=True)\n",
    "total_count = len(y_e)\n",
    "for value, count in zip(unique_values, counts):\n",
    "    percentage = (count / total_count)*100\n",
    "    print(f\"Value: {value}, Count: {count}, Percentage: {percentage:.2f}%\")"
   ]
  },
  {
   "cell_type": "code",
   "execution_count": 2,
   "metadata": {},
   "outputs": [
    {
     "name": "stdout",
     "output_type": "stream",
     "text": [
      "Value: 0, Count: 2291, Percentage: 11.46%\n",
      "Value: 1, Count: 17709, Percentage: 88.55%\n",
      "\n",
      "Value: 0, Count: 2838, Percentage: 14.19%\n",
      "Value: 1, Count: 17162, Percentage: 85.81%\n",
      "\n",
      "Value: 0, Count: 1707, Percentage: 8.54%\n",
      "Value: 1, Count: 18293, Percentage: 91.47%\n",
      "\n"
     ]
    }
   ],
   "source": [
    "# Load multi event synthetic\n",
    "dataset_name = \"synthetic_me\"\n",
    "data_config = load_config(cfg.DGP_CONFIGS_DIR, f\"synthetic_me.yaml\")\n",
    "dl = get_data_loader(dataset_name).load_data(data_config, k_taus=[0.25, 0.25, 0.25])\n",
    "num_features, cat_features = dl.get_features()\n",
    "X, y_t, y_e = dl.get_data()\n",
    "\n",
    "for i in range(3):\n",
    "    unique_values, counts = np.unique(y_e[:,i], return_counts=True)\n",
    "    total_count = len(y_e[:,i])\n",
    "    for value, count in zip(unique_values, counts):\n",
    "        percentage = (count / total_count)*100\n",
    "        print(f\"Value: {value}, Count: {count}, Percentage: {percentage:.2f}%\")\n",
    "    print()"
   ]
  },
  {
   "cell_type": "code",
   "execution_count": 7,
   "metadata": {},
   "outputs": [
    {
     "name": "stdout",
     "output_type": "stream",
     "text": [
      "Value: False, Count: 462, Percentage: 47.09%\n",
      "Value: True, Count: 519, Percentage: 52.91%\n",
      "\n",
      "Value: False, Count: 527, Percentage: 53.72%\n",
      "Value: True, Count: 454, Percentage: 46.28%\n",
      "\n",
      "Value: False, Count: 384, Percentage: 39.14%\n",
      "Value: True, Count: 597, Percentage: 60.86%\n",
      "\n",
      "Value: False, Count: 225, Percentage: 22.94%\n",
      "Value: True, Count: 756, Percentage: 77.06%\n",
      "\n"
     ]
    }
   ],
   "source": [
    "# Load PRO-ACT dataset\n",
    "dataset_name = \"als_me\"\n",
    "dl = get_data_loader(dataset_name).load_data()\n",
    "num_features, cat_features = dl.get_features()\n",
    "X, y_t, y_e = dl.get_data()\n",
    "\n",
    "for i in range(4):\n",
    "    unique_values, counts = np.unique(y_e[:,i], return_counts=True)\n",
    "    total_count = len(y_e[:,i])\n",
    "    for value, count in zip(unique_values, counts):\n",
    "        percentage = (count / total_count)*100\n",
    "        print(f\"Value: {value}, Count: {count}, Percentage: {percentage:.2f}%\")\n",
    "    print()"
   ]
  },
  {
   "cell_type": "code",
   "execution_count": 2,
   "metadata": {},
   "outputs": [
    {
     "name": "stdout",
     "output_type": "stream",
     "text": [
      "Value: 0, Count: 10492, Percentage: 54.52%\n",
      "Value: 1, Count: 8754, Percentage: 45.48%\n"
     ]
    }
   ],
   "source": [
    "# Load SEER (SE) dataset\n",
    "dataset_name = \"seer_se\"\n",
    "dl = get_data_loader(dataset_name)\n",
    "dl = dl.load_data()\n",
    "num_features, cat_features = dl.get_features()\n",
    "X, y_t, y_e = dl.get_data()\n",
    "unique_values, counts = np.unique(y_e, return_counts=True)\n",
    "total_count = len(y_e)\n",
    "for value, count in zip(unique_values, counts):\n",
    "    percentage = (count / total_count)*100\n",
    "    print(f\"Value: {value}, Count: {count}, Percentage: {percentage:.2f}%\")"
   ]
  },
  {
   "cell_type": "code",
   "execution_count": 3,
   "metadata": {},
   "outputs": [
    {
     "name": "stdout",
     "output_type": "stream",
     "text": [
      "Value: 0, Count: 8103, Percentage: 42.10%\n",
      "Value: 1, Count: 2389, Percentage: 12.41%\n",
      "Value: 2, Count: 8754, Percentage: 45.48%\n"
     ]
    }
   ],
   "source": [
    "# Load SEER (CR) dataset\n",
    "dataset_name = \"seer_cr\"\n",
    "dl = get_data_loader(dataset_name)\n",
    "dl = dl.load_data()\n",
    "num_features, cat_features = dl.get_features()\n",
    "X, y_t, y_e = dl.get_data()\n",
    "unique_values, counts = np.unique(y_e, return_counts=True)\n",
    "total_count = len(y_e)\n",
    "for value, count in zip(unique_values, counts):\n",
    "    percentage = (count / total_count)*100\n",
    "    print(f\"Value: {value}, Count: {count}, Percentage: {percentage:.2f}%\")"
   ]
  },
  {
   "cell_type": "code",
   "execution_count": 4,
   "metadata": {},
   "outputs": [
    {
     "name": "stdout",
     "output_type": "stream",
     "text": [
      "Value: 0, Count: 1269, Percentage: 42.56%\n",
      "Value: 1, Count: 195, Percentage: 6.54%\n",
      "Value: 2, Count: 1518, Percentage: 50.91%\n"
     ]
    }
   ],
   "source": [
    "# Load Rotterdam (CR) dataset\n",
    "dataset_name = \"rotterdam_cr\"\n",
    "dl = get_data_loader(dataset_name)\n",
    "dl = dl.load_data()\n",
    "num_features, cat_features = dl.get_features()\n",
    "X, y_t, y_e = dl.get_data()\n",
    "unique_values, counts = np.unique(y_e, return_counts=True)\n",
    "total_count = len(y_e)\n",
    "for value, count in zip(unique_values, counts):\n",
    "    percentage = (count / total_count)*100\n",
    "    print(f\"Value: {value}, Count: {count}, Percentage: {percentage:.2f}%\")"
   ]
  },
  {
   "cell_type": "code",
   "execution_count": 2,
   "metadata": {},
   "outputs": [
    {
     "name": "stdout",
     "output_type": "stream",
     "text": [
      "Value: False, Count: 15647, Percentage: 59.64%\n",
      "Value: True, Count: 10589, Percentage: 40.36%\n"
     ]
    }
   ],
   "source": [
    "# Load MIMIC-IV (SE) dataset\n",
    "dataset_name = \"mimic_se\"\n",
    "dl = get_data_loader(dataset_name)\n",
    "dl = dl.load_data()\n",
    "num_features, cat_features = dl.get_features()\n",
    "X, y_t, y_e = dl.get_data()\n",
    "unique_values, counts = np.unique(y_e, return_counts=True)\n",
    "total_count = len(y_e)\n",
    "for value, count in zip(unique_values, counts):\n",
    "    percentage = (count / total_count)*100\n",
    "    print(f\"Value: {value}, Count: {count}, Percentage: {percentage:.2f}%\")"
   ]
  },
  {
   "cell_type": "code",
   "execution_count": 3,
   "metadata": {},
   "outputs": [
    {
     "name": "stdout",
     "output_type": "stream",
     "text": [
      "Value: 0.0, Count: 19718, Percentage: 75.16%\n",
      "Value: 1.0, Count: 6518, Percentage: 24.84%\n",
      "\n",
      "Value: 0.0, Count: 20091, Percentage: 76.58%\n",
      "Value: 1.0, Count: 6145, Percentage: 23.42%\n",
      "\n",
      "Value: 0.0, Count: 15647, Percentage: 59.64%\n",
      "Value: 1.0, Count: 10589, Percentage: 40.36%\n",
      "\n"
     ]
    }
   ],
   "source": [
    "# Load MIMIC-IV (ME) dataset\n",
    "dataset_name = \"mimic_me\"\n",
    "dl = get_data_loader(dataset_name).load_data()\n",
    "num_features, cat_features = dl.get_features()\n",
    "X, y_t, y_e = dl.get_data()\n",
    "\n",
    "for i in range(3):\n",
    "    unique_values, counts = np.unique(y_e[:,i], return_counts=True)\n",
    "    total_count = len(y_e[:,i])\n",
    "    for value, count in zip(unique_values, counts):\n",
    "        percentage = (count / total_count)*100\n",
    "        print(f\"Value: {value}, Count: {count}, Percentage: {percentage:.2f}%\")\n",
    "    print()"
   ]
  }
 ],
 "metadata": {
  "kernelspec": {
   "display_name": "py38-bayes-surv",
   "language": "python",
   "name": "python3"
  },
  "language_info": {
   "codemirror_mode": {
    "name": "ipython",
    "version": 3
   },
   "file_extension": ".py",
   "mimetype": "text/x-python",
   "name": "python",
   "nbconvert_exporter": "python",
   "pygments_lexer": "ipython3",
   "version": "3.9.19"
  },
  "orig_nbformat": 4
 },
 "nbformat": 4,
 "nbformat_minor": 2
}
