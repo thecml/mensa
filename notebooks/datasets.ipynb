{
 "cells": [
  {
   "cell_type": "code",
   "execution_count": 1,
   "metadata": {},
   "outputs": [
    {
     "name": "stderr",
     "output_type": "stream",
     "text": [
      "c:\\Users\\au475271\\Miniconda3\\envs\\py39-mensa\\lib\\site-packages\\tqdm\\auto.py:21: TqdmWarning: IProgress not found. Please update jupyter and ipywidgets. See https://ipywidgets.readthedocs.io/en/stable/user_install.html\n",
      "  from .autonotebook import tqdm as notebook_tqdm\n"
     ]
    }
   ],
   "source": [
    "import config as cfg\n",
    "from pathlib import Path\n",
    "import pandas as pd\n",
    "import matplotlib.pyplot as plt\n",
    "import seaborn as sns\n",
    "import numpy as np\n",
    "import torch\n",
    "from data_loader import *\n",
    "from utility.config import load_config"
   ]
  },
  {
   "cell_type": "code",
   "execution_count": 64,
   "metadata": {},
   "outputs": [
    {
     "name": "stdout",
     "output_type": "stream",
     "text": [
      "Number of samples: 5000\n",
      "Number of features: 10\n",
      "Max t: 17.04397297298822\n",
      "Number of censored/uncensored: 2378/2622\n",
      "47.56% of records are censored\n",
      "52.44% of records are uncensored\n",
      "\n"
     ]
    }
   ],
   "source": [
    "data_config = load_config(cfg.DGP_CONFIGS_DIR, f\"synthetic_se.yaml\")\n",
    "dl = SingleEventSyntheticDataLoader().load_data(data_config=data_config,\n",
    "                                                linear=True, copula_name=\"clayton\",\n",
    "                                                k_tau=0.25, device=\"cpu\", dtype=torch.float64)\n",
    "\n",
    "n_samples = dl.get_data()[0].shape[0]\n",
    "n_features = dl.get_data()[0].shape[1]\n",
    "times = dl.get_data()[1]\n",
    "events = dl.get_data()[2]\n",
    "n_censored = int(events.shape[0] - events.sum())\n",
    "max_t = times.max()\n",
    "\n",
    "print(f\"Number of samples: {n_samples}\")\n",
    "print(f\"Number of features: {n_features}\")\n",
    "print(f\"Max t: {max_t}\")\n",
    "print(f\"Number of censored/uncensored: {n_censored}/{events.shape[0]-n_censored}\")\n",
    "print(f\"{round(n_censored / events.shape[0] * 100, 2)}% of records are censored\")\n",
    "print(f\"{round((events.shape[0]-n_censored) / events.shape[0] * 100, 2)}% of records are uncensored\\n\")"
   ]
  },
  {
   "cell_type": "code",
   "execution_count": 65,
   "metadata": {},
   "outputs": [
    {
     "name": "stdout",
     "output_type": "stream",
     "text": [
      "Number of samples: 19246\n",
      "Number of features: 17\n",
      "Max t: 121\n",
      "Number of censored/uncensored: 10492/8754\n",
      "54.52% of records are censored\n",
      "45.48% of records are uncensored\n",
      "\n"
     ]
    }
   ],
   "source": [
    "dl = SeerSingleDataLoader().load_data()\n",
    "n_samples = dl.get_data()[0].shape[0]\n",
    "n_features = dl.get_data()[0].shape[1]\n",
    "times = dl.get_data()[1]\n",
    "events = dl.get_data()[2]\n",
    "n_censored = int(events.shape[0] - events.sum())\n",
    "max_t = times.max()\n",
    "\n",
    "print(f\"Number of samples: {n_samples}\")\n",
    "print(f\"Number of features: {n_features}\")\n",
    "print(f\"Max t: {max_t}\")\n",
    "print(f\"Number of censored/uncensored: {n_censored}/{events.shape[0]-n_censored}\")\n",
    "print(f\"{round(n_censored / events.shape[0] * 100, 2)}% of records are censored\")\n",
    "print(f\"{round((events.shape[0]-n_censored) / events.shape[0] * 100, 2)}% of records are uncensored\\n\")"
   ]
  },
  {
   "cell_type": "code",
   "execution_count": 66,
   "metadata": {},
   "outputs": [
    {
     "name": "stdout",
     "output_type": "stream",
     "text": [
      "Number of samples: 19246\n",
      "Number of features: 17\n",
      "Max t: 121\n",
      "Number of censored/uncensored: 11143/8103\n",
      "57.9% of records are censored\n",
      "42.1% of records are uncensored\n",
      "\n",
      "Number of samples: 19246\n",
      "Number of features: 17\n",
      "Max t: 121\n",
      "Number of censored/uncensored: 16857/2389\n",
      "87.59% of records are censored\n",
      "12.41% of records are uncensored\n",
      "\n",
      "Number of samples: 19246\n",
      "Number of features: 17\n",
      "Max t: 121\n",
      "Number of censored/uncensored: 10492/8754\n",
      "54.52% of records are censored\n",
      "45.48% of records are uncensored\n",
      "\n"
     ]
    }
   ],
   "source": [
    "dl = SeerCompetingDataLoader().load_data()\n",
    "n_samples = dl.get_data()[0].shape[0]\n",
    "n_features = dl.get_data()[0].shape[1]\n",
    "n_events = dl.n_events\n",
    "\n",
    "for i in range(n_events+1):\n",
    "    times = dl.get_data()[1]\n",
    "    events = (dl.get_data()[2] == i)*1.0\n",
    "    n_censored = int(events.shape[0] - events.sum())\n",
    "    max_t = times.max()\n",
    "    print(f\"Number of samples: {n_samples}\")\n",
    "    print(f\"Number of features: {n_features}\")\n",
    "    print(f\"Max t: {max_t}\")\n",
    "    print(f\"Number of censored/uncensored: {n_censored}/{events.shape[0]-n_censored}\")\n",
    "    print(f\"{round(n_censored / events.shape[0] * 100, 2)}% of records are censored\")\n",
    "    print(f\"{round((events.shape[0]-n_censored) / events.shape[0] * 100, 2)}% of records are uncensored\\n\")"
   ]
  },
  {
   "cell_type": "code",
   "execution_count": 67,
   "metadata": {},
   "outputs": [
    {
     "name": "stdout",
     "output_type": "stream",
     "text": [
      "Number of samples: 24516\n",
      "Number of features: 100\n",
      "Max t: 4686\n",
      "Number of censored/uncensored: 15390/9126\n",
      "62.78% of records are censored\n",
      "37.22% of records are uncensored\n",
      "\n"
     ]
    }
   ],
   "source": [
    "dl = MimicSingleDataLoader().load_data()\n",
    "n_samples = dl.get_data()[0].shape[0]\n",
    "n_features = dl.get_data()[0].shape[1]\n",
    "times = dl.get_data()[1]\n",
    "events = dl.get_data()[2]\n",
    "n_censored = int(events.shape[0] - events.sum())\n",
    "max_t = times.max()\n",
    "\n",
    "print(f\"Number of samples: {n_samples}\")\n",
    "print(f\"Number of features: {n_features}\")\n",
    "print(f\"Max t: {max_t}\")\n",
    "print(f\"Number of censored/uncensored: {n_censored}/{events.shape[0]-n_censored}\")\n",
    "print(f\"{round(n_censored / events.shape[0] * 100, 2)}% of records are censored\")\n",
    "print(f\"{round((events.shape[0]-n_censored) / events.shape[0] * 100, 2)}% of records are uncensored\\n\")"
   ]
  },
  {
   "cell_type": "code",
   "execution_count": 71,
   "metadata": {},
   "outputs": [
    {
     "name": "stdout",
     "output_type": "stream",
     "text": [
      "Number of samples: 24516\n",
      "Number of features: 100\n",
      "Max t: 4686.0\n",
      "Number of censored/uncensored: 23000/1516\n",
      "93.82% of records are censored\n",
      "6.18% of records are uncensored\n",
      "\n",
      "Number of samples: 24516\n",
      "Number of features: 100\n",
      "Max t: 4686.0\n",
      "Number of censored/uncensored: 23592/924\n",
      "96.23% of records are censored\n",
      "3.77% of records are uncensored\n",
      "\n",
      "Number of samples: 24516\n",
      "Number of features: 100\n",
      "Max t: 4686.0\n",
      "Number of censored/uncensored: 15390/9126\n",
      "62.78% of records are censored\n",
      "37.22% of records are uncensored\n",
      "\n"
     ]
    }
   ],
   "source": [
    "dl = MimicCompetingDataLoader().load_data()\n",
    "n_samples = dl.get_data()[0].shape[0]\n",
    "n_features = dl.get_data()[0].shape[1]\n",
    "n_events = dl.n_events\n",
    "\n",
    "for i in range(n_events):\n",
    "    times = dl.get_data()[1]\n",
    "    events = (dl.get_data()[2] == i+1)*1.0\n",
    "    n_censored = int(events.shape[0] - events.sum())\n",
    "    max_t = times.max()\n",
    "    print(f\"Number of samples: {n_samples}\")\n",
    "    print(f\"Number of features: {n_features}\")\n",
    "    print(f\"Max t: {max_t}\")\n",
    "    print(f\"Number of censored/uncensored: {n_censored}/{events.shape[0]-n_censored}\")\n",
    "    print(f\"{round(n_censored / events.shape[0] * 100, 2)}% of records are censored\")\n",
    "    print(f\"{round((events.shape[0]-n_censored) / events.shape[0] * 100, 2)}% of records are uncensored\\n\")"
   ]
  },
  {
   "cell_type": "code",
   "execution_count": 72,
   "metadata": {},
   "outputs": [
    {
     "name": "stdout",
     "output_type": "stream",
     "text": [
      "Number of samples: 24516\n",
      "Number of features: 100\n",
      "Max t: 4686.0\n",
      "Number of censored/uncensored: 19441/5075\n",
      "79.3% of records are censored\n",
      "20.7% of records are uncensored\n",
      "\n",
      "Number of samples: 24516\n",
      "Number of features: 100\n",
      "Max t: 4686.0\n",
      "Number of censored/uncensored: 19811/4705\n",
      "80.81% of records are censored\n",
      "19.19% of records are uncensored\n",
      "\n",
      "Number of samples: 24516\n",
      "Number of features: 100\n",
      "Max t: 4686.0\n",
      "Number of censored/uncensored: 15390/9126\n",
      "62.78% of records are censored\n",
      "37.22% of records are uncensored\n",
      "\n"
     ]
    }
   ],
   "source": [
    "dl = MimicMultiDataLoader().load_data()\n",
    "n_samples = dl.get_data()[0].shape[0]\n",
    "n_features = dl.get_data()[0].shape[1]\n",
    "n_events = dl.n_events\n",
    "\n",
    "for i in range(n_events):\n",
    "    times = dl.get_data()[1][:,i]\n",
    "    events = dl.get_data()[2][:,i]\n",
    "    n_censored = int(events.shape[0] - events.sum())\n",
    "    max_t = times.max()\n",
    "    print(f\"Number of samples: {n_samples}\")\n",
    "    print(f\"Number of features: {n_features}\")\n",
    "    print(f\"Max t: {max_t}\")\n",
    "    print(f\"Number of censored/uncensored: {n_censored}/{events.shape[0]-n_censored}\")\n",
    "    print(f\"{round(n_censored / events.shape[0] * 100, 2)}% of records are censored\")\n",
    "    print(f\"{round((events.shape[0]-n_censored) / events.shape[0] * 100, 2)}% of records are uncensored\\n\")"
   ]
  },
  {
   "cell_type": "code",
   "execution_count": 73,
   "metadata": {},
   "outputs": [
    {
     "name": "stdout",
     "output_type": "stream",
     "text": [
      "Number of samples: 2982\n",
      "Number of features: 10\n",
      "Max t: 7043\n",
      "Number of censored/uncensored: 2787/195\n",
      "93.46% of records are censored\n",
      "6.54% of records are uncensored\n",
      "\n",
      "Number of samples: 2982\n",
      "Number of features: 10\n",
      "Max t: 7043\n",
      "Number of censored/uncensored: 1464/1518\n",
      "49.09% of records are censored\n",
      "50.91% of records are uncensored\n",
      "\n"
     ]
    }
   ],
   "source": [
    "dl = RotterdamCompetingDataLoader().load_data()\n",
    "n_samples = dl.get_data()[0].shape[0]\n",
    "n_features = dl.get_data()[0].shape[1]\n",
    "n_events = dl.n_events\n",
    "\n",
    "for i in range(n_events):\n",
    "    times = dl.get_data()[1]\n",
    "    events = (dl.get_data()[2] == i+1)*1.0\n",
    "    n_censored = int(events.shape[0] - events.sum())\n",
    "    max_t = times.max()\n",
    "    print(f\"Number of samples: {n_samples}\")\n",
    "    print(f\"Number of features: {n_features}\")\n",
    "    print(f\"Max t: {max_t}\")\n",
    "    print(f\"Number of censored/uncensored: {n_censored}/{events.shape[0]-n_censored}\")\n",
    "    print(f\"{round(n_censored / events.shape[0] * 100, 2)}% of records are censored\")\n",
    "    print(f\"{round((events.shape[0]-n_censored) / events.shape[0] * 100, 2)}% of records are uncensored\\n\")"
   ]
  },
  {
   "cell_type": "code",
   "execution_count": 2,
   "metadata": {},
   "outputs": [
    {
     "name": "stdout",
     "output_type": "stream",
     "text": [
      "Number of samples: 2982\n",
      "Number of features: 10\n",
      "Max t: 7043\n",
      "Number of censored/uncensored: 1464/1518\n",
      "49.09% of records are censored\n",
      "50.91% of records are uncensored\n",
      "\n",
      "Number of samples: 2982\n",
      "Number of features: 10\n",
      "Max t: 7043\n",
      "Number of censored/uncensored: 1710/1272\n",
      "57.34% of records are censored\n",
      "42.66% of records are uncensored\n",
      "\n"
     ]
    }
   ],
   "source": [
    "dl = RotterdamMultiDataLoader().load_data()\n",
    "n_samples = dl.get_data()[0].shape[0]\n",
    "n_features = dl.get_data()[0].shape[1]\n",
    "n_events = dl.n_events\n",
    "\n",
    "for i in range(n_events):\n",
    "    times = dl.get_data()[1][:,i]\n",
    "    events = dl.get_data()[2][:,i]\n",
    "    n_censored = int(events.shape[0] - events.sum())\n",
    "    max_t = times.max()\n",
    "    print(f\"Number of samples: {n_samples}\")\n",
    "    print(f\"Number of features: {n_features}\")\n",
    "    print(f\"Max t: {max_t}\")\n",
    "    print(f\"Number of censored/uncensored: {n_censored}/{events.shape[0]-n_censored}\")\n",
    "    print(f\"{round(n_censored / events.shape[0] * 100, 2)}% of records are censored\")\n",
    "    print(f\"{round((events.shape[0]-n_censored) / events.shape[0] * 100, 2)}% of records are uncensored\\n\")"
   ]
  },
  {
   "cell_type": "code",
   "execution_count": 3,
   "metadata": {},
   "outputs": [
    {
     "name": "stdout",
     "output_type": "stream",
     "text": [
      "Number of samples: 1807\n",
      "Number of features: 9\n",
      "Max t: 365.0\n",
      "Number of censored/uncensored: 1176/631\n",
      "65.08% of records are censored\n",
      "34.92% of records are uncensored\n",
      "\n",
      "Number of samples: 1807\n",
      "Number of features: 9\n",
      "Max t: 365.0\n",
      "Number of censored/uncensored: 1286/521\n",
      "71.17% of records are censored\n",
      "28.83% of records are uncensored\n",
      "\n",
      "Number of samples: 1807\n",
      "Number of features: 9\n",
      "Max t: 365.0\n",
      "Number of censored/uncensored: 974/833\n",
      "53.9% of records are censored\n",
      "46.1% of records are uncensored\n",
      "\n",
      "Number of samples: 1807\n",
      "Number of features: 9\n",
      "Max t: 365.0\n",
      "Number of censored/uncensored: 794/1013\n",
      "43.94% of records are censored\n",
      "56.06% of records are uncensored\n",
      "\n"
     ]
    }
   ],
   "source": [
    "dl = PROACTMultiDataLoader().load_data()\n",
    "n_samples = dl.get_data()[0].shape[0]\n",
    "n_features = dl.get_data()[0].shape[1]\n",
    "n_events = dl.n_events\n",
    "\n",
    "for i in range(n_events):\n",
    "    times = dl.get_data()[1][:,i]\n",
    "    events = dl.get_data()[2][:,i]\n",
    "    n_censored = int(events.shape[0] - events.sum())\n",
    "    max_t = times.max()\n",
    "    print(f\"Number of samples: {n_samples}\")\n",
    "    print(f\"Number of features: {n_features}\")\n",
    "    print(f\"Max t: {max_t}\")\n",
    "    print(f\"Number of censored/uncensored: {n_censored}/{events.shape[0]-n_censored}\")\n",
    "    print(f\"{round(n_censored / events.shape[0] * 100, 2)}% of records are censored\")\n",
    "    print(f\"{round((events.shape[0]-n_censored) / events.shape[0] * 100, 2)}% of records are uncensored\\n\")"
   ]
  },
  {
   "cell_type": "code",
   "execution_count": 2,
   "metadata": {},
   "outputs": [
    {
     "name": "stdout",
     "output_type": "stream",
     "text": [
      "Number of samples: 2279\n",
      "Number of features: 6\n",
      "Max t: 6228.0\n",
      "Number of censored/uncensored: 1494/785\n",
      "65.56% of records are censored\n",
      "34.44% of records are uncensored\n",
      "\n",
      "Number of samples: 2279\n",
      "Number of features: 6\n",
      "Max t: 6299.0\n",
      "Number of censored/uncensored: 1372/907\n",
      "60.2% of records are censored\n",
      "39.8% of records are uncensored\n",
      "\n",
      "Number of samples: 2279\n",
      "Number of features: 6\n",
      "Max t: 6299.0\n",
      "Number of censored/uncensored: 1619/660\n",
      "71.04% of records are censored\n",
      "28.96% of records are uncensored\n",
      "\n",
      "Number of samples: 2279\n",
      "Number of features: 6\n",
      "Max t: 6299.0\n",
      "Number of censored/uncensored: 1909/370\n",
      "83.76% of records are censored\n",
      "16.24% of records are uncensored\n",
      "\n",
      "Number of samples: 2279\n",
      "Number of features: 6\n",
      "Max t: 6299.0\n",
      "Number of censored/uncensored: 1746/533\n",
      "76.61% of records are censored\n",
      "23.39% of records are uncensored\n",
      "\n"
     ]
    }
   ],
   "source": [
    "dl = EBMTDataLoader().load_data()\n",
    "n_samples = dl.get_data()[0].shape[0]\n",
    "n_features = dl.get_data()[0].shape[1]\n",
    "n_events = dl.n_events\n",
    "\n",
    "for i in range(n_events):\n",
    "    times = dl.get_data()[1][:,i]\n",
    "    events = dl.get_data()[2][:,i]\n",
    "    n_censored = int(events.shape[0] - events.sum())\n",
    "    max_t = times.max()\n",
    "    print(f\"Number of samples: {n_samples}\")\n",
    "    print(f\"Number of features: {n_features}\")\n",
    "    print(f\"Max t: {max_t}\")\n",
    "    print(f\"Number of censored/uncensored: {n_censored}/{events.shape[0]-n_censored}\")\n",
    "    print(f\"{round(n_censored / events.shape[0] * 100, 2)}% of records are censored\")\n",
    "    print(f\"{round((events.shape[0]-n_censored) / events.shape[0] * 100, 2)}% of records are uncensored\\n\")"
   ]
  }
 ],
 "metadata": {
  "kernelspec": {
   "display_name": "py39-mensa",
   "language": "python",
   "name": "python3"
  },
  "language_info": {
   "codemirror_mode": {
    "name": "ipython",
    "version": 3
   },
   "file_extension": ".py",
   "mimetype": "text/x-python",
   "name": "python",
   "nbconvert_exporter": "python",
   "pygments_lexer": "ipython3",
   "version": "3.9.19"
  }
 },
 "nbformat": 4,
 "nbformat_minor": 2
}
